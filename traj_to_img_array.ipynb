{
 "cells": [
  {
   "cell_type": "code",
   "execution_count": 1,
   "metadata": {},
   "outputs": [
    {
     "data": {
      "text/html": [
       "<div>\n",
       "<style scoped>\n",
       "    .dataframe tbody tr th:only-of-type {\n",
       "        vertical-align: middle;\n",
       "    }\n",
       "\n",
       "    .dataframe tbody tr th {\n",
       "        vertical-align: top;\n",
       "    }\n",
       "\n",
       "    .dataframe thead th {\n",
       "        text-align: right;\n",
       "    }\n",
       "</style>\n",
       "<table border=\"1\" class=\"dataframe\">\n",
       "  <thead>\n",
       "    <tr style=\"text-align: right;\">\n",
       "      <th></th>\n",
       "      <th>name</th>\n",
       "      <th>date</th>\n",
       "      <th>quantity</th>\n",
       "      <th>exposure</th>\n",
       "      <th>tracked_id</th>\n",
       "      <th>traj</th>\n",
       "      <th>VCL</th>\n",
       "      <th>VAP</th>\n",
       "      <th>VSL</th>\n",
       "      <th>LIN</th>\n",
       "      <th>STR</th>\n",
       "      <th>WOB</th>\n",
       "      <th>BeatCross</th>\n",
       "      <th>ALH</th>\n",
       "      <th>img</th>\n",
       "      <th>cluster</th>\n",
       "    </tr>\n",
       "  </thead>\n",
       "  <tbody>\n",
       "    <tr>\n",
       "      <th>0</th>\n",
       "      <td>balder</td>\n",
       "      <td>01062021-25</td>\n",
       "      <td>0</td>\n",
       "      <td>0.0</td>\n",
       "      <td>1.0</td>\n",
       "      <td>[[69, 70, 71, 71, 72, 73, 73, 74, 75, 76, 76, ...</td>\n",
       "      <td>79.95981</td>\n",
       "      <td>65.18066</td>\n",
       "      <td>60.57626</td>\n",
       "      <td>0.757584</td>\n",
       "      <td>0.929359</td>\n",
       "      <td>0.815168</td>\n",
       "      <td>30.0</td>\n",
       "      <td>4.276645</td>\n",
       "      <td>[1.0, 1.0, 1.0, 1.0, 1.0, 1.0, 1.0, 1.0, 1.0, ...</td>\n",
       "      <td>0</td>\n",
       "    </tr>\n",
       "  </tbody>\n",
       "</table>\n",
       "</div>"
      ],
      "text/plain": [
       "     name         date quantity  exposure  tracked_id  \\\n",
       "0  balder  01062021-25        0       0.0         1.0   \n",
       "\n",
       "                                                traj       VCL       VAP  \\\n",
       "0  [[69, 70, 71, 71, 72, 73, 73, 74, 75, 76, 76, ...  79.95981  65.18066   \n",
       "\n",
       "        VSL       LIN       STR       WOB  BeatCross       ALH  \\\n",
       "0  60.57626  0.757584  0.929359  0.815168       30.0  4.276645   \n",
       "\n",
       "                                                 img  cluster  \n",
       "0  [1.0, 1.0, 1.0, 1.0, 1.0, 1.0, 1.0, 1.0, 1.0, ...        0  "
      ]
     },
     "execution_count": 1,
     "metadata": {},
     "output_type": "execute_result"
    }
   ],
   "source": [
    "import pandas as pd\n",
    "import numpy as np\n",
    "import pickle as pkl\n",
    "\n",
    "df = pkl.load(open('trajectory/master_08052022.pkl','rb'))\n",
    "df.head(1)"
   ]
  },
  {
   "cell_type": "code",
   "execution_count": 2,
   "metadata": {},
   "outputs": [],
   "source": [
    "# remove img col\n",
    "df = df.drop('img', axis=1)"
   ]
  },
  {
   "cell_type": "code",
   "execution_count": 3,
   "metadata": {},
   "outputs": [],
   "source": [
    "df['traj'] = df['traj'].apply(lambda x: np.array(x))\n",
    "df['centered_traj'] = df['traj'].apply(lambda x: np.array([sub_array - sub_array.mean() for sub_array in x]))\n",
    "#df = df.head(100)"
   ]
  },
  {
   "cell_type": "code",
   "execution_count": 4,
   "metadata": {},
   "outputs": [
    {
     "data": {
      "text/plain": [
       "array([[-11.35483871, -10.35483871,  -9.35483871,  -9.35483871,\n",
       "         -8.35483871,  -7.35483871,  -7.35483871,  -6.35483871,\n",
       "         -5.35483871,  -4.35483871,  -4.35483871,  -3.35483871,\n",
       "         -2.35483871,  -1.35483871,  -1.35483871,   0.64516129,\n",
       "          0.64516129,   1.64516129,   2.64516129,   3.64516129,\n",
       "          4.64516129,   4.64516129,   6.64516129,   6.64516129,\n",
       "          7.64516129,   7.64516129,   8.64516129,   8.64516129,\n",
       "          9.64516129,   8.64516129,   9.64516129],\n",
       "       [  2.51612903,   2.51612903,   2.51612903,   2.51612903,\n",
       "          2.51612903,   2.51612903,   2.51612903,   2.51612903,\n",
       "          2.51612903,   2.51612903,   1.51612903,   2.51612903,\n",
       "          1.51612903,   2.51612903,   1.51612903,   1.51612903,\n",
       "          0.51612903,   0.51612903,   0.51612903,  -0.48387097,\n",
       "         -0.48387097,  -0.48387097,  -1.48387097,  -2.48387097,\n",
       "         -2.48387097,  -3.48387097,  -3.48387097,  -4.48387097,\n",
       "         -5.48387097,  -6.48387097,  -6.48387097]])"
      ]
     },
     "execution_count": 4,
     "metadata": {},
     "output_type": "execute_result"
    }
   ],
   "source": [
    "df['centered_traj'][0]"
   ]
  },
  {
   "cell_type": "code",
   "execution_count": 6,
   "metadata": {},
   "outputs": [
    {
     "name": "stderr",
     "output_type": "stream",
     "text": [
      "/tmp/ipykernel_5340/1503041691.py:26: MatplotlibDeprecationWarning: The tostring_rgb function was deprecated in Matplotlib 3.8 and will be removed two minor releases later. Use buffer_rgba instead.\n",
      "  img = np.frombuffer(fig.canvas.tostring_rgb(), dtype=np.uint8)\n"
     ]
    },
    {
     "name": "stdout",
     "output_type": "stream",
     "text": [
      "(100, 32, 32, 3)\n"
     ]
    }
   ],
   "source": [
    "import numpy as np\n",
    "import matplotlib.pyplot as plt\n",
    "\n",
    "def trajectory_to_image(trajectory, img_size=32):\n",
    "    # Create a white background\n",
    "    img = np.ones((img_size, img_size, 3), dtype=np.uint8) * 255\n",
    "    \n",
    "    fig, ax = plt.subplots(figsize=(img_size/100, img_size/100), dpi=100)\n",
    "    ax.set_facecolor('white')\n",
    "    \n",
    "    # Plot the trajectory\n",
    "    ax.plot(trajectory[0], trajectory[1], color='black', linewidth=1)\n",
    "    \n",
    "    # Set axis limits and remove ticks\n",
    "    ax.set_xlim(-40, 40)\n",
    "    ax.set_ylim(-40, 40)\n",
    "    ax.set_xticks([])\n",
    "    ax.set_yticks([])\n",
    "    \n",
    "    # Remove axis lines\n",
    "    for spine in ax.spines.values():\n",
    "        spine.set_visible(False)\n",
    "    \n",
    "    # Render the plot to a numpy array\n",
    "    fig.canvas.draw()\n",
    "    img = np.frombuffer(fig.canvas.tostring_rgb(), dtype=np.uint8)\n",
    "    img = img.reshape(fig.canvas.get_width_height()[::-1] + (3,))\n",
    "    \n",
    "    plt.close(fig)\n",
    "    \n",
    "    return img\n",
    "\n",
    "# Convert all trajectories to images\n",
    "X = np.array([trajectory_to_image(traj) for traj in df['centered_traj']])\n",
    "\n",
    "# X will now be a numpy array with shape (num_trajectories, img_size, img_size, 3)\n",
    "print(X.shape)"
   ]
  },
  {
   "cell_type": "code",
   "execution_count": 12,
   "metadata": {},
   "outputs": [
    {
     "data": {
      "image/png": "[encoded data removed]",
      "text/plain": [
       "<Figure size 500x500 with 1 Axes>"
      ]
     },
     "metadata": {},
     "output_type": "display_data"
    }
   ],
   "source": [
    "import matplotlib.pyplot as plt\n",
    "\n",
    "def visualize_trajectory_image(X, index):\n",
    "    plt.figure(figsize=(5, 5))\n",
    "    plt.imshow(X[index])\n",
    "    plt.axis('off')\n",
    "    #plt.title(f'Trajectory {index}')\n",
    "    plt.show()\n",
    "\n",
    "visualize_trajectory_image(X, 99)"
   ]
  },
  {
   "cell_type": "code",
   "execution_count": 9,
   "metadata": {},
   "outputs": [],
   "source": [
    "np.save('X_data.npy',X)"
   ]
  },
  {
   "cell_type": "code",
   "execution_count": 10,
   "metadata": {},
   "outputs": [
    {
     "data": {
      "text/plain": [
       "(100, 32, 32, 3)"
      ]
     },
     "execution_count": 10,
     "metadata": {},
     "output_type": "execute_result"
    }
   ],
   "source": [
    "X_ = np.load('X_data.npy')\n",
    "X_.shape"
   ]
  },
  {
   "cell_type": "code",
   "execution_count": null,
   "metadata": {},
   "outputs": [],
   "source": []
  }
 ],
 "metadata": {
  "kernelspec": {
   "display_name": "traj_new",
   "language": "python",
   "name": "python3"
  },
  "language_info": {
   "codemirror_mode": {
    "name": "ipython",
    "version": 3
   },
   "file_extension": ".py",
   "mimetype": "text/x-python",
   "name": "python",
   "nbconvert_exporter": "python",
   "pygments_lexer": "ipython3",
   "version": "3.9.19"
  }
 },
 "nbformat": 4,
 "nbformat_minor": 2
}
